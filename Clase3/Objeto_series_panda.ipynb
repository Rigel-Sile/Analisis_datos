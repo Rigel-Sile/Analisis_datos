{
 "cells": [
  {
   "cell_type": "markdown",
   "metadata": {
    "deletable": true,
    "editable": true
   },
   "source": [
    "# Introducción a pandas\n",
    "\n",
    "\n",
    "\n",
    "[Pandas](http://pandas.pydata.org/) es una biblioteca de alto rendimiento que proporciona un conjunto completo de estructuras de datos para manipular datos tabulares, proporcionar  indexación de alto rendimiento, alineación automática, remodelación, agrupación, uniones  y capacidades de análisis estadístico.\n",
    "\n",
    "![](pandas.png)\n",
    "\n",
    "Las dos estructuras de datos principales en pandas son los objetos **Series** y **DataFrame**. El objeto Series se basa en las características de un `ndarray` de NumPy por lo que proporciona operaciones tales como indexación, etiquetado de ejes, alineación, etc."
   ]
  },
  {
   "cell_type": "markdown",
   "metadata": {
    "deletable": true,
    "editable": true
   },
   "source": [
    "## El objeto Series \n",
    "\n",
    "El objeto  `Series` es uno de los  bloques de construcción principal  de pandas. Este objeto  representa una matriz indexada,  etiquetada, unidimensional basada en el  objeto `ndarray` de NumPy. Al igual que una matriz, el objeto `Series` puede contener cero o más valores de algún tipo de dato.\n",
    "\n",
    "`Series` de pandas se diferencia  de las matrices NumPy, por la adición de un conjunto asociado de etiquetas que se utilizan para indexar y acceder  a los elementos de la matriz por valores de etiquetas en lugar de acceder por la posición de un número entero. Este índice etiquetado es una característica de `Series`  y agrega  mayor poder para acceder a los elementos de `Series` que una matriz de   NumPy.\n",
    "\n",
    "\n",
    "Un objeto `Series` siempre tiene un índice por defecto si no se especifica uno. En este caso predeterminado, pandas creará un índice que consiste en enteros secuenciales a partir de cero. Este comportamiento predeterminado hará que `Series ` inicialmente parezca  a una matriz NumPy. Esto es por diseño, ya que `Series` se derivó de una matriz NumPy. Esto permite aun  que el objeto `Series` sea utilizado por el código de NumPy existente que usa la búsqueda de posición basada en enteros. En versiones recientes de pandas, esta derivación desde `ndarray` ha sido eliminada, pero `Series` sigue siendo compatible con el  API de Numpy.\n",
    "\n",
    "A pesar de que `Series` con un índice entero  por defecto parece idéntico a una matriz de NumPy, el acceso a los elementos no se da por la posición de un número entero, sino  utilizando valores en el índice (denominado etiquetas). La librería  pandas usará las etiquetas proporcionadas para realizar una búsqueda de valores para esas etiquetas.\n",
    "A diferencia de una matriz, las etiquetas de índice no necesitan ser números enteros, pueden tener  etiquetas repetidas,  tener conjuntos jerárquicos de etiquetas y se utilizan  en un concepto de pandas, conocido como alineación automática de valores por etiqueta de índice.\n",
    "\n",
    "Esta alineación automática es el cambio más significativo que `Series` hace sobre `ndarray`. Las operaciones aplicadas a través de múltiples objetos pandas (un ejemplo simple puede ser la adición) no se aplican  a los valores en orden por posición en el objeto `Series`. La biblioteca pandas primero alineará los dos objetos pandas mediante las etiquetas de índice y luego aplicará los valores de operación con etiquetas alineadas. Esto es en cierto modo, un tipo simple de unión y le permite asociar datos con etiquetas de índice comunes sin ningún esfuerzo.\n",
    "\n",
    "Un índice de pandas es un componente de primera clase de pandas. pandas proporciona diversas especializaciones de índices para diferentes tipos de datos, cada uno de ellos altamente optimizado para esos tipos de datos, ya sean enteros, flotantes, cadenas, fecha y hora o cualquier otro tipo de objeto de pandas. Además,  `Series` puede reindexarse en otros tipos de índices, proporcionando de manera efectiva diferentes vistas en el objeto `Series` utilizando diferentes índices.\n",
    "\n",
    "Esta capacidad de construir dinámicamente vistas alternativas sobre datos utilizando índices  establece un entorno para la manipulación interactiva de datos, donde los datos pueden permanecer en una estructura única pero que pueden ser fácilmente transformados en vistas diferentes. Esto facilita la creación de un entorno muy interactivo para jugar con la información sin tener que verse  sobrecargado por la estructura, como sucede con las herramientas relacionales como SQL."
   ]
  },
  {
   "cell_type": "code",
   "execution_count": 1,
   "metadata": {
    "collapsed": true,
    "deletable": true,
    "editable": true
   },
   "outputs": [],
   "source": [
    "import numpy as np\n",
    "import pandas as pd"
   ]
  },
  {
   "cell_type": "markdown",
   "metadata": {
    "deletable": true,
    "editable": true
   },
   "source": [
    "Definimos un objeto  `Series`  instanciando un objeto `Series` de pandas con una lista. También se pueden  usar otros objetos de datos, como diccionarios y matrices de  Numpy para instanciar un objeto `Series`. El método básico para crear un objeto `Series` es entonces:\n",
    "\n",
    "```\n",
    "s = pd.series(datos, index =index)\n",
    "\n",
    "```\n",
    "\n",
    "Aquí `datos`, puede ser diferentes cosas e `index` es una lista de etiquetas de ejes:\n",
    "\n",
    "* Un diccionario de Python\n",
    "* Un ndarray\n",
    "* Un valor escalar\n",
    "\n"
   ]
  },
  {
   "cell_type": "markdown",
   "metadata": {
    "deletable": true,
    "editable": true
   },
   "source": [
    "#### Datos  como un ndarray\n",
    "\n",
    "Si `datos` es un ndarray, `index ` debe tener la misma longitud que `datos`. Si `index ` no es pasado, se creará uno  con valores `[0, ... len(datos) - 1]`."
   ]
  },
  {
   "cell_type": "code",
   "execution_count": 2,
   "metadata": {
    "collapsed": false,
    "deletable": true,
    "editable": true
   },
   "outputs": [
    {
     "data": {
      "text/plain": [
       "0    1\n",
       "1    2\n",
       "2    3\n",
       "3    4\n",
       "4    5\n",
       "dtype: int64"
      ]
     },
     "execution_count": 2,
     "metadata": {},
     "output_type": "execute_result"
    }
   ],
   "source": [
    "s1 = pd.Series([1, 2, 3, 4, 5])\n",
    "s1"
   ]
  },
  {
   "cell_type": "markdown",
   "metadata": {
    "deletable": true,
    "editable": true
   },
   "source": [
    "No hemos definido un índice en nuestro ejemplo, pero vemos dos columnas en nuestra salida: La columna derecha contiene nuestros datos, mientras que la columna izquierda contiene el índice. Pandas creó un índice por defecto comenzando con 0 pasando a 5, que es la longitud de los datos menos 1, (como se mencionó antes). Podemos acceder directamente al índice y a los valores de `s1`, de la siguiente manera:"
   ]
  },
  {
   "cell_type": "code",
   "execution_count": 3,
   "metadata": {
    "collapsed": false,
    "deletable": true,
    "editable": true
   },
   "outputs": [
    {
     "name": "stdout",
     "output_type": "stream",
     "text": [
      "RangeIndex(start=0, stop=5, step=1)\n"
     ]
    }
   ],
   "source": [
    "print(s1.index)"
   ]
  },
  {
   "cell_type": "code",
   "execution_count": 4,
   "metadata": {
    "collapsed": false,
    "deletable": true,
    "editable": true
   },
   "outputs": [
    {
     "name": "stdout",
     "output_type": "stream",
     "text": [
      "[1 2 3 4 5]\n"
     ]
    }
   ],
   "source": [
    "print(s1.values)"
   ]
  },
  {
   "cell_type": "code",
   "execution_count": 5,
   "metadata": {
    "collapsed": false,
    "deletable": true,
    "editable": true
   },
   "outputs": [
    {
     "data": {
      "text/plain": [
       "a   -1.296961\n",
       "b    0.190680\n",
       "c   -0.371868\n",
       "d    0.734923\n",
       "e   -2.036607\n",
       "dtype: float64"
      ]
     },
     "execution_count": 5,
     "metadata": {},
     "output_type": "execute_result"
    }
   ],
   "source": [
    "se1 = pd.Series(np.random.randn(5), index=['a', 'b', 'c', 'd', 'e'])\n",
    "se1"
   ]
  },
  {
   "cell_type": "code",
   "execution_count": 6,
   "metadata": {
    "collapsed": false,
    "deletable": true,
    "editable": true
   },
   "outputs": [
    {
     "data": {
      "text/plain": [
       "Index(['a', 'b', 'c', 'd', 'e'], dtype='object')"
      ]
     },
     "execution_count": 6,
     "metadata": {},
     "output_type": "execute_result"
    }
   ],
   "source": [
    "se1.index"
   ]
  },
  {
   "cell_type": "code",
   "execution_count": 7,
   "metadata": {
    "collapsed": false,
    "deletable": true,
    "editable": true
   },
   "outputs": [
    {
     "data": {
      "text/plain": [
       "0   -1.225132\n",
       "1   -0.408330\n",
       "2    0.758293\n",
       "3   -1.185181\n",
       "4   -0.244810\n",
       "dtype: float64"
      ]
     },
     "execution_count": 7,
     "metadata": {},
     "output_type": "execute_result"
    }
   ],
   "source": [
    "pd.Series(np.random.randn(5))"
   ]
  },
  {
   "cell_type": "markdown",
   "metadata": {
    "deletable": true,
    "editable": true
   },
   "source": [
    "Si comparamos esto con creando  una matriz en Numpy, todavía hay muchas similitudes:"
   ]
  },
  {
   "cell_type": "code",
   "execution_count": 8,
   "metadata": {
    "collapsed": false,
    "deletable": true,
    "editable": true
   },
   "outputs": [
    {
     "name": "stdout",
     "output_type": "stream",
     "text": [
      "[11 28 72  3  5  8]\n",
      "[1 2 3 4 5]\n",
      "<class 'numpy.ndarray'> <class 'numpy.ndarray'>\n"
     ]
    }
   ],
   "source": [
    "X = np.array([11, 28, 72, 3, 5, 8])\n",
    "print(X)\n",
    "print(s1.values)\n",
    "\n",
    "# Ambos son del mismo tipo:\n",
    "\n",
    "print(type(s1.values), type(X))"
   ]
  },
  {
   "cell_type": "markdown",
   "metadata": {
    "deletable": true,
    "editable": true
   },
   "source": [
    "#### Datos como un diccionario de Python\n",
    "\n",
    "Si `datos` es un diccionario, el  `index` es pasado a  los valores de los datos correspondientes a las etiquetas del índice. De lo contrario, un índice se construirá a partir de las claves ordenadas del diccionaro, si es posible.\n"
   ]
  },
  {
   "cell_type": "code",
   "execution_count": 9,
   "metadata": {
    "collapsed": true,
    "deletable": true,
    "editable": true
   },
   "outputs": [],
   "source": [
    "d = {'a' : 0., 'b' : 1., 'c' : 2.}"
   ]
  },
  {
   "cell_type": "code",
   "execution_count": 10,
   "metadata": {
    "collapsed": false,
    "deletable": true,
    "editable": true
   },
   "outputs": [
    {
     "data": {
      "text/plain": [
       "a    0.0\n",
       "b    1.0\n",
       "c    2.0\n",
       "dtype: float64"
      ]
     },
     "execution_count": 10,
     "metadata": {},
     "output_type": "execute_result"
    }
   ],
   "source": [
    "pd.Series(d)"
   ]
  },
  {
   "cell_type": "code",
   "execution_count": 11,
   "metadata": {
    "collapsed": false,
    "deletable": true,
    "editable": true
   },
   "outputs": [
    {
     "data": {
      "text/plain": [
       "b    1.0\n",
       "c    2.0\n",
       "d    NaN\n",
       "a    0.0\n",
       "dtype: float64"
      ]
     },
     "execution_count": 11,
     "metadata": {},
     "output_type": "execute_result"
    }
   ],
   "source": [
    "pd.Series(d, index=['b', 'c', 'd', 'a'])"
   ]
  },
  {
   "cell_type": "code",
   "execution_count": 12,
   "metadata": {
    "collapsed": false,
    "deletable": true,
    "editable": true
   },
   "outputs": [
    {
     "data": {
      "text/plain": [
       "Lima              38332521\n",
       "New York          19651127\n",
       "Quito             19552860\n",
       "Rio de Janeiro    12882135\n",
       "Santiago          26448193\n",
       "dtype: int64"
      ]
     },
     "execution_count": 12,
     "metadata": {},
     "output_type": "execute_result"
    }
   ],
   "source": [
    "poblacion_dict = {'Lima': 38332521,\n",
    "                   'Santiago': 26448193,\n",
    "                   'New York': 19651127,\n",
    "                   'Quito': 19552860,\n",
    "                   'Rio de Janeiro': 12882135}\n",
    "poblacion = pd.Series(poblacion_dict)\n",
    "poblacion"
   ]
  },
  {
   "cell_type": "markdown",
   "metadata": {
    "deletable": true,
    "editable": true
   },
   "source": [
    "De forma predeterminada, se creará el objeto `Series` donde se extraerá el índice de las claves ordenadas. A partir de aquí, se puede realizar el acceso típico al estilo de diccionario:"
   ]
  },
  {
   "cell_type": "code",
   "execution_count": 13,
   "metadata": {
    "collapsed": false,
    "deletable": true,
    "editable": true
   },
   "outputs": [
    {
     "data": {
      "text/plain": [
       "38332521"
      ]
     },
     "execution_count": 13,
     "metadata": {},
     "output_type": "execute_result"
    }
   ],
   "source": [
    "poblacion['Lima']"
   ]
  },
  {
   "cell_type": "markdown",
   "metadata": {
    "deletable": true,
    "editable": true
   },
   "source": [
    "A diferencia de un diccionario, a través de  `Series` también admite operaciones de división (slicing):"
   ]
  },
  {
   "cell_type": "code",
   "execution_count": 14,
   "metadata": {
    "collapsed": false,
    "deletable": true,
    "editable": true
   },
   "outputs": [
    {
     "data": {
      "text/plain": [
       "Lima        38332521\n",
       "New York    19651127\n",
       "Quito       19552860\n",
       "dtype: int64"
      ]
     },
     "execution_count": 14,
     "metadata": {},
     "output_type": "execute_result"
    }
   ],
   "source": [
    "poblacion['Lima': 'Quito']"
   ]
  },
  {
   "cell_type": "markdown",
   "metadata": {
    "deletable": true,
    "editable": true
   },
   "source": [
    "#### Datos como un valor escalar\n",
    "\n",
    "Si `datos` es un valor escalar, un `index` deben ser considerados. El valor se repetirá para que coincida con la longitud del índice."
   ]
  },
  {
   "cell_type": "code",
   "execution_count": 15,
   "metadata": {
    "collapsed": false,
    "deletable": true,
    "editable": true
   },
   "outputs": [
    {
     "data": {
      "text/plain": [
       "a    5.0\n",
       "b    5.0\n",
       "c    5.0\n",
       "d    5.0\n",
       "e    5.0\n",
       "dtype: float64"
      ]
     },
     "execution_count": 15,
     "metadata": {},
     "output_type": "execute_result"
    }
   ],
   "source": [
    "pd.Series(5., index=['a', 'b', 'c', 'd', 'e'])"
   ]
  },
  {
   "cell_type": "markdown",
   "metadata": {
    "deletable": true,
    "editable": true
   },
   "source": [
    "Hasta ahora `Series` no ha sido muy diferente a  `ndarrays` de Numpy. Esto cambia, tan pronto como empezamos a definir objetos `Series` con índices individuales:"
   ]
  },
  {
   "cell_type": "code",
   "execution_count": 16,
   "metadata": {
    "collapsed": false,
    "deletable": true,
    "editable": true
   },
   "outputs": [
    {
     "data": {
      "text/plain": [
       "python     2\n",
       "R         12\n",
       "C          1\n",
       "C++        3\n",
       "dtype: int64"
      ]
     },
     "execution_count": 16,
     "metadata": {},
     "output_type": "execute_result"
    }
   ],
   "source": [
    "lenguajes = ['python', 'R', 'C', 'C++']\n",
    "nivel = [2, 12, 1, 3]\n",
    "s2 = pd.Series(nivel, index=lenguajes)\n",
    "s2"
   ]
  },
  {
   "cell_type": "markdown",
   "metadata": {
    "deletable": true,
    "editable": true
   },
   "source": [
    "Una gran ventaja sobre las matrices  NumPy es obvia del ejemplo anterior: Podemos usar índices arbitrarios.Si agregamos dos `Series` con los mismos índices, obtendremos un objeto `Series` con el mismo índice y se añadirán los valores correspondientes:"
   ]
  },
  {
   "cell_type": "code",
   "execution_count": 17,
   "metadata": {
    "collapsed": false,
    "deletable": true,
    "editable": true
   },
   "outputs": [
    {
     "name": "stdout",
     "output_type": "stream",
     "text": [
      "pera       37\n",
      "naranja    46\n",
      "cereza     83\n",
      "papaya     42\n",
      "dtype: int64\n",
      "suma de s3:  115\n"
     ]
    }
   ],
   "source": [
    "frutas = ['pera', 'naranja', 'cereza', 'papaya']\n",
    "s3 = pd.Series([20, 33, 52, 10], index=frutas)\n",
    "s4 = pd.Series([17, 13, 31, 32], index=frutas)\n",
    "print(s3 + s4)\n",
    "print(\"suma de s3: \", sum(s3))"
   ]
  },
  {
   "cell_type": "markdown",
   "metadata": {
    "collapsed": true,
    "deletable": true,
    "editable": true
   },
   "source": [
    "Los índices no tienen que ser iguales para la adición en `Serie`. El índice será la *unión*  de ambos índices. Si no existe un índice en ambas `Series`, el valor para esta `Serie` será `NaN`:"
   ]
  },
  {
   "cell_type": "code",
   "execution_count": 18,
   "metadata": {
    "collapsed": false,
    "deletable": true,
    "editable": true
   },
   "outputs": [
    {
     "name": "stdout",
     "output_type": "stream",
     "text": [
      "cereza     83.0\n",
      "fresa       NaN\n",
      "naranja    46.0\n",
      "pera       52.0\n",
      "pera       42.0\n",
      "dtype: float64\n"
     ]
    }
   ],
   "source": [
    "frutas1 = ['pera', 'naranja', 'cereza', 'pera']\n",
    "frutas2 = ['fresa', 'naranja', 'cereza', 'pera']\n",
    "s5 = pd.Series([20, 33, 52, 10], index=frutas1)\n",
    "s6 = pd.Series([17, 13, 31, 32], index=frutas2)\n",
    "print(s5 + s6)"
   ]
  },
  {
   "cell_type": "markdown",
   "metadata": {
    "deletable": true,
    "editable": true
   },
   "source": [
    "Es posible acceder a valores individuales de una `Serie` o más de un valor mediante una lista de índices:"
   ]
  },
  {
   "cell_type": "code",
   "execution_count": 19,
   "metadata": {
    "collapsed": false,
    "deletable": true,
    "editable": true
   },
   "outputs": [
    {
     "name": "stdout",
     "output_type": "stream",
     "text": [
      "12\n"
     ]
    }
   ],
   "source": [
    "print(s2['R'])"
   ]
  },
  {
   "cell_type": "code",
   "execution_count": 20,
   "metadata": {
    "collapsed": false,
    "deletable": true,
    "editable": true
   },
   "outputs": [
    {
     "name": "stdout",
     "output_type": "stream",
     "text": [
      "pera       20\n",
      "naranja    33\n",
      "cereza     52\n",
      "dtype: int64\n"
     ]
    }
   ],
   "source": [
    "print(s3[['pera', 'naranja', 'cereza']])"
   ]
  },
  {
   "cell_type": "markdown",
   "metadata": {
    "deletable": true,
    "editable": true
   },
   "source": [
    "Similar a Numpy podemos usar operaciones escalares o funciones matemáticas en una `Serie`:"
   ]
  },
  {
   "cell_type": "code",
   "execution_count": 21,
   "metadata": {
    "collapsed": false,
    "deletable": true,
    "editable": true
   },
   "outputs": [
    {
     "name": "stdout",
     "output_type": "stream",
     "text": [
      "python    20\n",
      "R         60\n",
      "C         16\n",
      "C++       24\n",
      "dtype: int64\n",
      "python    1.414214\n",
      "R         3.464102\n",
      "C         1.000000\n",
      "C++       1.732051\n",
      "dtype: float64\n"
     ]
    }
   ],
   "source": [
    "import numpy as np\n",
    "print((s2 + 3) * 4)\n",
    "print(np.sqrt(s2))"
   ]
  },
  {
   "cell_type": "markdown",
   "metadata": {
    "deletable": true,
    "editable": true
   },
   "source": [
    "### pandas.Series.apply\n",
    "\n",
    "```\n",
    "Series.apply(f1, conv1ert_dtype=True, args=(), **kwds)\n",
    "```\n",
    "\n",
    "La función *f1* se aplicará a `Series` y retorna  un objeto `Series `o un `DataFrame`, dependiendo de *f1*."
   ]
  },
  {
   "cell_type": "code",
   "execution_count": 22,
   "metadata": {
    "collapsed": false,
    "deletable": true,
    "editable": true
   },
   "outputs": [
    {
     "data": {
      "text/plain": [
       "pera       0.912945\n",
       "naranja    0.999912\n",
       "cereza     0.986628\n",
       "papaya    -0.544021\n",
       "dtype: float64"
      ]
     },
     "execution_count": 22,
     "metadata": {},
     "output_type": "execute_result"
    }
   ],
   "source": [
    "s3.apply(np.sin)"
   ]
  },
  {
   "cell_type": "code",
   "execution_count": 23,
   "metadata": {
    "collapsed": true,
    "deletable": true,
    "editable": true
   },
   "outputs": [],
   "source": [
    "s6 = pd.Series([20, 21, 12], index=['Lima ', 'Santiago','La Paz'])\n"
   ]
  },
  {
   "cell_type": "code",
   "execution_count": 24,
   "metadata": {
    "collapsed": false
   },
   "outputs": [
    {
     "data": {
      "text/plain": [
       "Lima        400\n",
       "Santiago    441\n",
       "La Paz      144\n",
       "dtype: int64"
      ]
     },
     "execution_count": 24,
     "metadata": {},
     "output_type": "execute_result"
    }
   ],
   "source": [
    "def cuadrado(x):\n",
    "    return x**2\n",
    "s6.apply(cuadrado)"
   ]
  },
  {
   "cell_type": "markdown",
   "metadata": {},
   "source": [
    "Definimos  una función personalizada que tome argumentos con palabras claves y pasa esos argumentos a `apply`:"
   ]
  },
  {
   "cell_type": "code",
   "execution_count": 25,
   "metadata": {
    "collapsed": true
   },
   "outputs": [],
   "source": [
    "def pers_valor(x, **kwargs):\n",
    "    for mes in kwargs:\n",
    "        x += kwargs[mes]\n",
    "        return x"
   ]
  },
  {
   "cell_type": "code",
   "execution_count": 26,
   "metadata": {
    "collapsed": false
   },
   "outputs": [
    {
     "data": {
      "text/plain": [
       "Lima        50\n",
       "Santiago    51\n",
       "La Paz      42\n",
       "dtype: int64"
      ]
     },
     "execution_count": 26,
     "metadata": {},
     "output_type": "execute_result"
    }
   ],
   "source": [
    "s6.apply(pers_valor, junio=30, julio=19, agosto = 25)"
   ]
  },
  {
   "cell_type": "markdown",
   "metadata": {},
   "source": [
    "Usamos una función desde la library Numpy:"
   ]
  },
  {
   "cell_type": "code",
   "execution_count": 27,
   "metadata": {
    "collapsed": false
   },
   "outputs": [
    {
     "data": {
      "text/plain": [
       "Lima        2.995732\n",
       "Santiago    3.044522\n",
       "La Paz      2.484907\n",
       "dtype: float64"
      ]
     },
     "execution_count": 27,
     "metadata": {},
     "output_type": "execute_result"
    }
   ],
   "source": [
    "s6.apply(np.log)"
   ]
  },
  {
   "cell_type": "markdown",
   "metadata": {},
   "source": [
    "Definimos una función personalizada que necesita adicionales argumentos posicionales y pasar esos argumentos usando la palabra `args`:"
   ]
  },
  {
   "cell_type": "code",
   "execution_count": 28,
   "metadata": {
    "collapsed": true
   },
   "outputs": [],
   "source": [
    "def pers_arg(x, valor_pers):\n",
    "    return x - valor_pers"
   ]
  },
  {
   "cell_type": "code",
   "execution_count": 29,
   "metadata": {
    "collapsed": false
   },
   "outputs": [
    {
     "data": {
      "text/plain": [
       "Lima        15\n",
       "Santiago    16\n",
       "La Paz       7\n",
       "dtype: int64"
      ]
     },
     "execution_count": 29,
     "metadata": {},
     "output_type": "execute_result"
    }
   ],
   "source": [
    "s6.apply(pers_arg, args =(5, ))"
   ]
  },
  {
   "cell_type": "markdown",
   "metadata": {},
   "source": [
    "También podemos usar funciones lambda de Python. Supongamos que tenemos la siguiente tarea: la prueba de la cantidad de fruta de cada tipo. Hay menos de 50 disponibles y  vamos a aumentar la cantidad de frutas  por 10:"
   ]
  },
  {
   "cell_type": "code",
   "execution_count": 31,
   "metadata": {
    "collapsed": true
   },
   "outputs": [],
   "source": [
    "frutas = ['sandia', 'durazno', 'mandarina', 'fresa']\n",
    "s7 = pd.Series([20, 33, 52, 10], index=frutas)"
   ]
  },
  {
   "cell_type": "code",
   "execution_count": 32,
   "metadata": {
    "collapsed": false
   },
   "outputs": [
    {
     "data": {
      "text/plain": [
       "sandia       30\n",
       "durazno      43\n",
       "mandarina    52\n",
       "fresa        20\n",
       "dtype: int64"
      ]
     },
     "execution_count": 32,
     "metadata": {},
     "output_type": "execute_result"
    }
   ],
   "source": [
    "s7.apply(lambda x: x if x > 50 else x+10 )"
   ]
  },
  {
   "cell_type": "markdown",
   "metadata": {},
   "source": [
    "Usamos filtrado con una matriz booleana:"
   ]
  },
  {
   "cell_type": "code",
   "execution_count": 33,
   "metadata": {
    "collapsed": false
   },
   "outputs": [
    {
     "data": {
      "text/plain": [
       "durazno      33\n",
       "mandarina    52\n",
       "dtype: int64"
      ]
     },
     "execution_count": 33,
     "metadata": {},
     "output_type": "execute_result"
    }
   ],
   "source": [
    "s7[s7 > 30]"
   ]
  },
  {
   "cell_type": "markdown",
   "metadata": {},
   "source": [
    "Una serie puede aparecer como un diccionario ordenado con una longitud fija:"
   ]
  },
  {
   "cell_type": "code",
   "execution_count": 35,
   "metadata": {
    "collapsed": false
   },
   "outputs": [
    {
     "data": {
      "text/plain": [
       "True"
      ]
     },
     "execution_count": 35,
     "metadata": {},
     "output_type": "execute_result"
    }
   ],
   "source": [
    "'sandia' in s7"
   ]
  },
  {
   "cell_type": "markdown",
   "metadata": {},
   "source": [
    "### NaN\n",
    "\n",
    "Sea el siguiente ejemplo:"
   ]
  },
  {
   "cell_type": "code",
   "execution_count": 36,
   "metadata": {
    "collapsed": false
   },
   "outputs": [
    {
     "name": "stdout",
     "output_type": "stream",
     "text": [
      "Barcelona    1602386\n",
      "Berlin       3562166\n",
      "Bucharest    1803425\n",
      "Budapest     1754000\n",
      "Hamburg      1760433\n",
      "London       8615246\n",
      "Madrid       3165235\n",
      "Milan        1350680\n",
      "Munich       1493900\n",
      "Paris        2273305\n",
      "Rome         2874038\n",
      "Vienna       1805681\n",
      "Warsaw       1740119\n",
      "dtype: int64\n"
     ]
    }
   ],
   "source": [
    "ciudades = {\"London\":   8615246, \n",
    "          \"Berlin\":   3562166, \n",
    "          \"Madrid\":   3165235, \n",
    "          \"Rome\":     2874038, \n",
    "          \"Paris\":    2273305, \n",
    "          \"Vienna\":   1805681, \n",
    "          \"Bucharest\":1803425, \n",
    "          \"Hamburg\":  1760433,\n",
    "          \"Budapest\": 1754000,\n",
    "          \"Warsaw\":   1740119,\n",
    "          \"Barcelona\":1602386,\n",
    "          \"Munich\":   1493900,\n",
    "          \"Milan\":    1350680}\n",
    "ciudad_series = pd.Series(ciudades)\n",
    "print(ciudad_series)"
   ]
  },
  {
   "cell_type": "markdown",
   "metadata": {},
   "source": [
    "Un problema al tratar con el proceso  de análisis de datos consiste en la falta de datos o valores `NaN`. Pandas hace que sea fácil  trabajar con este tipo de datos.\n",
    "\n",
    "Si miramos al ejemplo anterior, podemos ver que el índice de nuestra serie es el mismo que las claves del diccionario que usamos para crear `ciudades_series`. Ahora, queremos utilizar un índice que no se superpone con las claves del diccionario. Hemos visto que podemos pasar una lista o una tupla al argumento de la palabra clave `index` para definir el índice. En nuestro siguiente ejemplo, la lista (o tupla) pasada al parámetro de palabra clave `index` no será igual a las claves. Esto significa que algunas ciudades del diccionario tendrán valores `NaN`  y dos ciudades, no aparecen en el diccionario."
   ]
  },
  {
   "cell_type": "code",
   "execution_count": 39,
   "metadata": {
    "collapsed": false
   },
   "outputs": [
    {
     "data": {
      "text/plain": [
       "London       8615246.0\n",
       "Paris        2273305.0\n",
       "Zurich             NaN\n",
       "Berlin       3562166.0\n",
       "Stuttgart          NaN\n",
       "Hamburg      1760433.0\n",
       "dtype: float64"
      ]
     },
     "execution_count": 39,
     "metadata": {},
     "output_type": "execute_result"
    }
   ],
   "source": [
    "ciudades1 = [\"London\", \"Paris\", \"Zurich\", \"Berlin\", \"Stuttgart\", \"Hamburg\"]\n",
    "ciudades1 = pd.Series(ciudades, index=ciudades1)\n",
    "\n",
    "ciudades1"
   ]
  },
  {
   "cell_type": "markdown",
   "metadata": {},
   "source": [
    "Debido a los valores de `NaN`, los valores de población para las otras ciudades se convierten en punto flotante. No hay datos faltantes (NaN) en los siguientes ejemplos, por lo que los valores son `int`:"
   ]
  },
  {
   "cell_type": "code",
   "execution_count": 40,
   "metadata": {
    "collapsed": false
   },
   "outputs": [
    {
     "data": {
      "text/plain": [
       "London     8615246\n",
       "Paris      2273305\n",
       "Berlin     3562166\n",
       "Hamburg    1760433\n",
       "dtype: int64"
      ]
     },
     "execution_count": 40,
     "metadata": {},
     "output_type": "execute_result"
    }
   ],
   "source": [
    "ciudades2 = [\"London\", \"Paris\", \"Berlin\", \"Hamburg\"]\n",
    "ciudades2 = pd.Series(ciudades, index=ciudades2)\n",
    "ciudades2"
   ]
  },
  {
   "cell_type": "markdown",
   "metadata": {},
   "source": [
    "### Métodos is.null() y not.null()\n",
    "\n",
    "En los códigos anteriores, podemos ver que las ciudades, que no están incluidas en el diccionario, obtienen el valor `NaN` asignado. `NaN` significa *not a number *. También puede considerarse como un *valor faltante* en nuestro ejemplo.\n",
    "\n",
    "Podemos comprobar los *valores faltantes* con los métodos `isnull` y `notnull`:"
   ]
  },
  {
   "cell_type": "code",
   "execution_count": 41,
   "metadata": {
    "collapsed": false
   },
   "outputs": [
    {
     "name": "stdout",
     "output_type": "stream",
     "text": [
      "London       False\n",
      "Paris        False\n",
      "Zurich        True\n",
      "Berlin       False\n",
      "Stuttgart     True\n",
      "Hamburg      False\n",
      "dtype: bool\n"
     ]
    }
   ],
   "source": [
    "ciudades1 = [\"London\", \"Paris\", \"Zurich\", \"Berlin\", \"Stuttgart\", \"Hamburg\"]\n",
    "ciudades1_series = pd.Series(ciudades, index=ciudades1)\n",
    "\n",
    "print(ciudades1_series.isnull())"
   ]
  },
  {
   "cell_type": "code",
   "execution_count": 42,
   "metadata": {
    "collapsed": false
   },
   "outputs": [
    {
     "name": "stdout",
     "output_type": "stream",
     "text": [
      "London        True\n",
      "Paris         True\n",
      "Zurich       False\n",
      "Berlin        True\n",
      "Stuttgart    False\n",
      "Hamburg       True\n",
      "dtype: bool\n"
     ]
    }
   ],
   "source": [
    "print(ciudades1_series.notnull())"
   ]
  },
  {
   "cell_type": "markdown",
   "metadata": {},
   "source": [
    "Es posible filtrar los datos que faltan con el método  `dropna` de `Series`."
   ]
  },
  {
   "cell_type": "code",
   "execution_count": 43,
   "metadata": {
    "collapsed": false
   },
   "outputs": [
    {
     "name": "stdout",
     "output_type": "stream",
     "text": [
      "London     8615246.0\n",
      "Paris      2273305.0\n",
      "Berlin     3562166.0\n",
      "Hamburg    1760433.0\n",
      "dtype: float64\n"
     ]
    }
   ],
   "source": [
    "print(ciudades1_series.dropna())"
   ]
  },
  {
   "cell_type": "markdown",
   "metadata": {},
   "source": [
    "En muchos casos, no se desea filtrar los datos que faltan, sino que se  desea rellenar con algún dato adecuado para estos datos fatants. Un método adecuado en muchas situaciones es `fillna`:"
   ]
  },
  {
   "cell_type": "code",
   "execution_count": 44,
   "metadata": {
    "collapsed": false
   },
   "outputs": [
    {
     "name": "stdout",
     "output_type": "stream",
     "text": [
      "London       8615246.0\n",
      "Paris        2273305.0\n",
      "Zurich             0.0\n",
      "Berlin       3562166.0\n",
      "Stuttgart          0.0\n",
      "Hamburg      1760433.0\n",
      "dtype: float64\n"
     ]
    }
   ],
   "source": [
    "print(ciudades1_series.fillna(0))"
   ]
  },
  {
   "cell_type": "markdown",
   "metadata": {},
   "source": [
    "Bueno, eso no es lo que llamamos *rellenar los datos adecuados para los datos vacíos y/o faltantes* . Si llamamos a `fillna` con un diccionario, podemos proporcionar los datos apropiados, es decir, la población de `Zurich` y `Stuttgart`:"
   ]
  },
  {
   "cell_type": "code",
   "execution_count": 45,
   "metadata": {
    "collapsed": false
   },
   "outputs": [
    {
     "data": {
      "text/plain": [
       "London       8615246.0\n",
       "Paris        2273305.0\n",
       "Zurich        378884.0\n",
       "Berlin       3562166.0\n",
       "Stuttgart     597939.0\n",
       "Hamburg      1760433.0\n",
       "dtype: float64"
      ]
     },
     "execution_count": 45,
     "metadata": {},
     "output_type": "execute_result"
    }
   ],
   "source": [
    "ciudades_faltantes = {\"Stuttgart\":597939, \"Zurich\":378884}\n",
    "ciudades1_series.fillna(ciudades_faltantes)\n"
   ]
  },
  {
   "cell_type": "markdown",
   "metadata": {},
   "source": [
    "## Indexación avanzada o multinivel\n",
    "\n",
    "La indexación avanzada o multinivel está disponible tanto para `Series` como para los `Data Frames`. Es una forma fascinante de trabajar con datos dimensionales superiores, usando las estructuras de datos de  Pandas. Es una forma eficiente de almacenar y manipular datos de dimensiones arbitrariamente elevadas con  estructuras `1 -dimensión ` (`Series`) y `2-dimensiones` (`Data Frame`). En otras palabras, podemos trabajar con datos dimensionales superiores en dimensiones inferiores."
   ]
  },
  {
   "cell_type": "code",
   "execution_count": 46,
   "metadata": {
    "collapsed": false
   },
   "outputs": [
    {
     "name": "stdout",
     "output_type": "stream",
     "text": [
      "[['Vienna', 'Vienna', 'Vienna', 'Hamburg', 'Hamburg', 'Hamburg', 'Berlin', 'Berlin', 'Berlin', 'Zürich', 'Zürich', 'Zürich'], ['pais', 'area', 'poblacion', 'pais', 'area', 'poblacion', 'pais', 'area', 'poblacion', 'pais', 'area', 'poblacion']]\n"
     ]
    }
   ],
   "source": [
    "ciudades = [\"Vienna\", \"Vienna\", \"Vienna\",\n",
    "          \"Hamburg\", \"Hamburg\", \"Hamburg\",\n",
    "          \"Berlin\", \"Berlin\", \"Berlin\",\n",
    "          \"Zürich\", \"Zürich\", \"Zürich\"]\n",
    "indices = [ciudades, [\"pais\", \"area\", \"poblacion\",\n",
    "                     \"pais\", \"area\", \"poblacion\",\n",
    "                     \"pais\", \"area\", \"poblacion\",\n",
    "                     \"pais\", \"area\", \"poblacion\"]]\n",
    "\n",
    "print(indices)"
   ]
  },
  {
   "cell_type": "code",
   "execution_count": 47,
   "metadata": {
    "collapsed": false
   },
   "outputs": [
    {
     "name": "stdout",
     "output_type": "stream",
     "text": [
      "Vienna   pais             Austria\n",
      "         area               414.6\n",
      "         poblacion        1805681\n",
      "Hamburg  pais             Germany\n",
      "         area                 755\n",
      "         poblacion        1760433\n",
      "Berlin   pais             Germany\n",
      "         area              891.85\n",
      "         poblacion        3562166\n",
      "Zürich   pais         Switzerland\n",
      "         area               87.88\n",
      "         poblacion         378884\n",
      "dtype: object\n"
     ]
    }
   ],
   "source": [
    "datos = [\"Austria\", 414.60,     1805681,\n",
    "        \"Germany\",   755.00,     1760433,\n",
    "        \"Germany\",   891.85,     3562166,\n",
    "        \"Switzerland\", 87.88, 378884]\n",
    "ciudad_series = pd.Series(datos, index=indices)\n",
    "print(ciudad_series)"
   ]
  },
  {
   "cell_type": "markdown",
   "metadata": {},
   "source": [
    "Podemos acceder a los datos de una ciudad de la siguiente forma:"
   ]
  },
  {
   "cell_type": "code",
   "execution_count": 48,
   "metadata": {
    "collapsed": false
   },
   "outputs": [
    {
     "name": "stdout",
     "output_type": "stream",
     "text": [
      "pais         Austria\n",
      "area           414.6\n",
      "poblacion    1805681\n",
      "dtype: object\n"
     ]
    }
   ],
   "source": [
    "print(ciudad_series[\"Vienna\"])"
   ]
  },
  {
   "cell_type": "markdown",
   "metadata": {},
   "source": [
    "Podemos acceder la información de `pais`, `area` o `población`, de las siguientes formas:"
   ]
  },
  {
   "cell_type": "code",
   "execution_count": 49,
   "metadata": {
    "collapsed": false
   },
   "outputs": [
    {
     "name": "stdout",
     "output_type": "stream",
     "text": [
      "414.6\n"
     ]
    }
   ],
   "source": [
    "print(ciudad_series[\"Vienna\"][\"area\"])"
   ]
  },
  {
   "cell_type": "code",
   "execution_count": 50,
   "metadata": {
    "collapsed": false
   },
   "outputs": [
    {
     "name": "stdout",
     "output_type": "stream",
     "text": [
      "414.6\n"
     ]
    }
   ],
   "source": [
    "print(ciudad_series[\"Vienna\", \"area\"])"
   ]
  },
  {
   "cell_type": "markdown",
   "metadata": {},
   "source": [
    "También podemos obtener el contenido de varias ciudades al mismo tiempo usando una lista de nombres de ciudades como una clave:"
   ]
  },
  {
   "cell_type": "code",
   "execution_count": 51,
   "metadata": {
    "collapsed": false
   },
   "outputs": [
    {
     "name": "stdout",
     "output_type": "stream",
     "text": [
      "Hamburg  pais         Germany\n",
      "         area             755\n",
      "         poblacion    1760433\n",
      "Berlin   pais         Germany\n",
      "         area          891.85\n",
      "         poblacion    3562166\n",
      "dtype: object\n"
     ]
    }
   ],
   "source": [
    "print(ciudad_series[[\"Hamburg\", \"Berlin\"]])"
   ]
  },
  {
   "cell_type": "markdown",
   "metadata": {},
   "source": [
    "Si el índice está ordenado, también podemos aplicar una operación de `división`:"
   ]
  },
  {
   "cell_type": "code",
   "execution_count": 52,
   "metadata": {
    "collapsed": false
   },
   "outputs": [
    {
     "name": "stdout",
     "output_type": "stream",
     "text": [
      "ciudad_series con indices ordenados:\n",
      "Berlin   area              891.85\n",
      "         pais             Germany\n",
      "         poblacion        3562166\n",
      "Hamburg  area                 755\n",
      "         pais             Germany\n",
      "         poblacion        1760433\n",
      "Vienna   area               414.6\n",
      "         pais             Austria\n",
      "         poblacion        1805681\n",
      "Zürich   area               87.88\n",
      "         pais         Switzerland\n",
      "         poblacion         378884\n",
      "dtype: object\n",
      "\n",
      "\n",
      "Dividiendo   ciudad_series:\n",
      "Berlin   area          891.85\n",
      "         pais         Germany\n",
      "         poblacion    3562166\n",
      "Hamburg  area             755\n",
      "         pais         Germany\n",
      "         poblacion    1760433\n",
      "Vienna   area           414.6\n",
      "         pais         Austria\n",
      "         poblacion    1805681\n",
      "dtype: object\n"
     ]
    }
   ],
   "source": [
    "ciudad_series = ciudad_series.sort_index()\n",
    "print(\"ciudad_series con indices ordenados:\")\n",
    "print(ciudad_series)\n",
    "\n",
    "print(\"\\n\\nDividiendo   ciudad_series:\")\n",
    "print(ciudad_series[\"Berlin\":\"Vienna\"])"
   ]
  },
  {
   "cell_type": "markdown",
   "metadata": {},
   "source": [
    "En el siguiente ejemplo, mostramos que también es posible acceder a claves internas:"
   ]
  },
  {
   "cell_type": "code",
   "execution_count": 53,
   "metadata": {
    "collapsed": false
   },
   "outputs": [
    {
     "name": "stdout",
     "output_type": "stream",
     "text": [
      "Berlin     891.85\n",
      "Hamburg       755\n",
      "Vienna      414.6\n",
      "Zürich      87.88\n",
      "dtype: object\n"
     ]
    }
   ],
   "source": [
    "print(ciudad_series[:, \"area\"])"
   ]
  },
  {
   "cell_type": "markdown",
   "metadata": {},
   "source": [
    "Podemos reordenar los niveles de los índices:"
   ]
  },
  {
   "cell_type": "code",
   "execution_count": 54,
   "metadata": {
    "collapsed": false
   },
   "outputs": [
    {
     "data": {
      "text/plain": [
       "area       Berlin          891.85\n",
       "pais       Berlin         Germany\n",
       "poblacion  Berlin         3562166\n",
       "area       Hamburg            755\n",
       "pais       Hamburg        Germany\n",
       "poblacion  Hamburg        1760433\n",
       "area       Vienna           414.6\n",
       "pais       Vienna         Austria\n",
       "poblacion  Vienna         1805681\n",
       "area       Zürich           87.88\n",
       "pais       Zürich     Switzerland\n",
       "poblacion  Zürich          378884\n",
       "dtype: object"
      ]
     },
     "execution_count": 54,
     "metadata": {},
     "output_type": "execute_result"
    }
   ],
   "source": [
    "ciudad_series.swaplevel()"
   ]
  },
  {
   "cell_type": "markdown",
   "metadata": {},
   "source": [
    "### Ejemplo de repaso"
   ]
  },
  {
   "cell_type": "code",
   "execution_count": 55,
   "metadata": {
    "collapsed": false
   },
   "outputs": [
    {
     "data": {
      "text/plain": [
       "0     909976\n",
       "1    8615246\n",
       "2    2872086\n",
       "3    2273305\n",
       "dtype: int64"
      ]
     },
     "execution_count": 55,
     "metadata": {},
     "output_type": "execute_result"
    }
   ],
   "source": [
    "s8 = pd.Series([909976, 8615246, 2872086, 2273305])\n",
    "s8"
   ]
  },
  {
   "cell_type": "code",
   "execution_count": 56,
   "metadata": {
    "collapsed": false
   },
   "outputs": [
    {
     "data": {
      "text/plain": [
       "RangeIndex(start=0, stop=4, step=1)"
      ]
     },
     "execution_count": 56,
     "metadata": {},
     "output_type": "execute_result"
    }
   ],
   "source": [
    "s8.index"
   ]
  },
  {
   "cell_type": "code",
   "execution_count": 57,
   "metadata": {
    "collapsed": false
   },
   "outputs": [
    {
     "data": {
      "text/plain": [
       "array([ 909976, 8615246, 2872086, 2273305])"
      ]
     },
     "execution_count": 57,
     "metadata": {},
     "output_type": "execute_result"
    }
   ],
   "source": [
    "s8.values"
   ]
  },
  {
   "cell_type": "code",
   "execution_count": 59,
   "metadata": {
    "collapsed": false
   },
   "outputs": [
    {
     "data": {
      "text/plain": [
       "Berlin       909976\n",
       "Paris       8615246\n",
       "Londres     2872086\n",
       "Singapur    2273305\n",
       "dtype: int64"
      ]
     },
     "execution_count": 59,
     "metadata": {},
     "output_type": "execute_result"
    }
   ],
   "source": [
    "s8.index = [\"Berlin\", \"Paris\", \"Londres\", \"Singapur\"]\n",
    "s8.names = \"Poblacion\"\n",
    "s8"
   ]
  },
  {
   "cell_type": "code",
   "execution_count": 60,
   "metadata": {
    "collapsed": false
   },
   "outputs": [
    {
     "data": {
      "text/plain": [
       "Berlin       909976\n",
       "Paris       8615246\n",
       "Londres     2872086\n",
       "Singapur    2273305\n",
       "Name: Poblacion, dtype: int64"
      ]
     },
     "execution_count": 60,
     "metadata": {},
     "output_type": "execute_result"
    }
   ],
   "source": [
    "# Otra manera de escribir esto:\n",
    "\n",
    "s8 = pd.Series([909976, 8615246, 2872086, 2273305], name=\"Poblacion\", index=[\"Berlin\", \"Paris\", \"Londres\", \"Singapur\"])\n",
    "s8"
   ]
  },
  {
   "cell_type": "code",
   "execution_count": 61,
   "metadata": {
    "collapsed": false
   },
   "outputs": [
    {
     "data": {
      "text/plain": [
       "2872086"
      ]
     },
     "execution_count": 61,
     "metadata": {},
     "output_type": "execute_result"
    }
   ],
   "source": [
    "# Accediendo a los elementos de Series\n",
    "\n",
    "s8[\"Londres\"]"
   ]
  },
  {
   "cell_type": "code",
   "execution_count": 62,
   "metadata": {
    "collapsed": false
   },
   "outputs": [
    {
     "data": {
      "text/plain": [
       "8615246"
      ]
     },
     "execution_count": 62,
     "metadata": {},
     "output_type": "execute_result"
    }
   ],
   "source": [
    "s8.Paris"
   ]
  },
  {
   "cell_type": "code",
   "execution_count": 63,
   "metadata": {
    "collapsed": false
   },
   "outputs": [
    {
     "data": {
      "text/plain": [
       "Berlin       909976\n",
       "Singapur    2273305\n",
       "Name: Poblacion, dtype: int64"
      ]
     },
     "execution_count": 63,
     "metadata": {},
     "output_type": "execute_result"
    }
   ],
   "source": [
    "s8[[\"Berlin\", \"Singapur\"]]"
   ]
  },
  {
   "cell_type": "code",
   "execution_count": 64,
   "metadata": {
    "collapsed": false
   },
   "outputs": [
    {
     "data": {
      "text/plain": [
       "(2572695.5, 3667653.25, 3399048.5005155364)"
      ]
     },
     "execution_count": 64,
     "metadata": {},
     "output_type": "execute_result"
    }
   ],
   "source": [
    "# Calculemos algunas cosas de estadistica descriptiva\n",
    "\n",
    "s8.median(), s8.mean(), s8.std()"
   ]
  },
  {
   "cell_type": "code",
   "execution_count": 65,
   "metadata": {
    "collapsed": false
   },
   "outputs": [
    {
     "data": {
      "text/plain": [
       "(909976, 8615246)"
      ]
     },
     "execution_count": 65,
     "metadata": {},
     "output_type": "execute_result"
    }
   ],
   "source": [
    " s8.min(), s8.max()"
   ]
  },
  {
   "cell_type": "code",
   "execution_count": 66,
   "metadata": {
    "collapsed": false
   },
   "outputs": [
    {
     "data": {
      "text/plain": [
       "(1932472.75, 2572695.5, 4307876.0)"
      ]
     },
     "execution_count": 66,
     "metadata": {},
     "output_type": "execute_result"
    }
   ],
   "source": [
    " s8.quantile(q=0.25), s8.quantile(q=0.5), s8.quantile(q=0.75)"
   ]
  },
  {
   "cell_type": "markdown",
   "metadata": {},
   "source": [
    "Todo lo anterior son combinados en la salida del método `describe`, que proporciona una resumen de los datos representados por el objeto `Series`:"
   ]
  },
  {
   "cell_type": "code",
   "execution_count": 67,
   "metadata": {
    "collapsed": false
   },
   "outputs": [
    {
     "data": {
      "text/plain": [
       "count    4.000000e+00\n",
       "mean     3.667653e+06\n",
       "std      3.399049e+06\n",
       "min      9.099760e+05\n",
       "25%      1.932473e+06\n",
       "50%      2.572696e+06\n",
       "75%      4.307876e+06\n",
       "max      8.615246e+06\n",
       "Name: Poblacion, dtype: float64"
      ]
     },
     "execution_count": 67,
     "metadata": {},
     "output_type": "execute_result"
    }
   ],
   "source": [
    "s8.describe()"
   ]
  },
  {
   "cell_type": "markdown",
   "metadata": {},
   "source": [
    "Usando el método `plot`, podemos producir fácilmente gráficos que visualizan los datos en el objeto `Series`. La librería `pandas` utiliza `matplotlib` para producir gráficos, y opcionalmente podemos pasar una instancia de `MatplotlibAxes` al método `plot` a través del argumento `ax`. El tipo del gráfico se especifica usando el argumento `kind` (las opciones válidas son `line`, `hist`, `bar`, `barh`, `box`, `kde`, `density`, `area` y `pie`)."
   ]
  },
  {
   "cell_type": "code",
   "execution_count": 69,
   "metadata": {
    "collapsed": false
   },
   "outputs": [
    {
     "data": {
      "image/png": "[encoded data removed]",
      "text/plain": [
       "<matplotlib.figure.Figure at 0x7f1b58915d68>"
      ]
     },
     "metadata": {},
     "output_type": "display_data"
    }
   ],
   "source": [
    "%matplotlib inline\n",
    "import matplotlib.pyplot as plt\n",
    "\n",
    "fig, axes = plt.subplots(1, 4, figsize=(12, 3))\n",
    "\n",
    "s8.plot(ax=axes[0], kind='line', title=\"line\")\n",
    "s8.plot(ax=axes[1], kind='bar', title=\"bar\")\n",
    "s8.plot(ax=axes[2], kind='box', title=\"box\")\n",
    "s8.plot(ax=axes[3], kind='pie', title=\"pie\")\n",
    "\n",
    "fig.tight_layout()"
   ]
  },
  {
   "cell_type": "code",
   "execution_count": null,
   "metadata": {
    "collapsed": true
   },
   "outputs": [],
   "source": []
  }
 ],
 "metadata": {
  "kernelspec": {
   "display_name": "Python 3",
   "language": "python",
   "name": "python3"
  },
  "language_info": {
   "codemirror_mode": {
    "name": "ipython",
    "version": 3
   },
   "file_extension": ".py",
   "mimetype": "text/x-python",
   "name": "python",
   "nbconvert_exporter": "python",
   "pygments_lexer": "ipython3",
   "version": "3.5.2"
  }
 },
 "nbformat": 4,
 "nbformat_minor": 1
}
